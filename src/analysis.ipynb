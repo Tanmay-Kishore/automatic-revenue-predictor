{
 "cells": [
  {
   "cell_type": "markdown",
   "metadata": {},
   "source": [
    "<h1 align=\"center\"><font color=#2980B9>Automatic Revenue Predictor</font></h1>"
   ]
  },
  {
   "cell_type": "markdown",
   "metadata": {},
   "source": [
    "## <font color=#9B59B6>Table of Content</font>\n",
    "1. <font color=#D35400>Introduction</font>\n",
    "2. <font color=#D35400>Pre-requisites</font>\n",
    "3. <font color=#D35400>Data Set</font>\n",
    "4. <font color=#D35400>Project Objective</font>\n",
    "5. <font color=#D35400>Conclusion</font>"
   ]
  },
  {
   "cell_type": "markdown",
   "metadata": {},
   "source": [
    "## <font color=#9B59B6>Introduction</font>"
   ]
  },
  {
   "cell_type": "code",
   "execution_count": null,
   "metadata": {},
   "outputs": [],
   "source": []
  }
 ],
 "metadata": {
  "language_info": {
   "name": "python"
  },
  "orig_nbformat": 4
 },
 "nbformat": 4,
 "nbformat_minor": 2
}
